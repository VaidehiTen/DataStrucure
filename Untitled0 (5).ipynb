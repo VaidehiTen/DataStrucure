{
  "nbformat": 4,
  "nbformat_minor": 0,
  "metadata": {
    "colab": {
      "provenance": []
    },
    "kernelspec": {
      "name": "python3",
      "display_name": "Python 3"
    },
    "language_info": {
      "name": "python"
    }
  },
  "cells": [
    {
      "cell_type": "markdown",
      "source": [],
      "metadata": {
        "id": "mj8Kh-T9QpsU"
      }
    },
    {
      "cell_type": "markdown",
      "source": [
        "#Data Structure\n"
      ],
      "metadata": {
        "id": "wXhaYuhtQreV"
      }
    },
    {
      "cell_type": "markdown",
      "source": [
        "1. What are data structures, and why are they important ?\n",
        "   - A data structure is an expertly designed format for arranging, processing, accessing, and storing data. Data structures in both simple and complex forms, all of which are made to organize data for a certain use. Users find it simple to access the data they need and use it appropriately. Data structures frame the organizing of information in a way that both machines and people can better grasp.\n",
        "   - Importance of Data Structure : Most computer programming languages' standard base data types, such as integers or floating-point numbers, are typically insufficient to convey the logical intent for data processing and application. However, to make processing easier, applications that consume, manipulate, and output information need to be aware of how data should be arranged. Data structures enable the efficient usage, persistence, and sharing by logically combining the data parts. They offer a formal model that outlines the arrangement of the data items.\n",
        "\n",
        "\n",
        "2.  Explain the difference between mutable and immutable data types with examples.\n",
        "    - Data types in Python are categorized into mutable and immutable data types.\n",
        "    - In Python, a data type is mutable if its values can be changed, updated, or modified after the data type has been created. In other words, once an object of the mutable data type is initialized, you can update its content without creating a new object. Example: List, Dictionaries, and Set.\n",
        "    I.Python lists : Python lists methods are mutable; the list’s contents are modified in place. You can change a list in place, add new elements, overwrite existing elements, or delete them.\n",
        "    II.Python Dictionary : Dictionaries are likely Python's most important and flexible mutable built-in data types. In simple terms, a Python dictionary is a flexible-sized arbitrary collection of key-value pairs, where key and value are both Python objects.\n",
        "    III.Python Sets : Sets are unordered collections of unique elements and immutable objects. You can think of them as a dictionary with just the keys and their values thrown away. Each item of a set should be unique. While sets themselves can be mutable, that is you can add or remove items.\n",
        "    - Data types in Python whose values can’t be changed or modified are known as Immutable Data Types. Once the value or the object of the immutable data type is initialized, its value remains constant throughout its lifetime.\n",
        "    But, if you want to change the original object, a new object will be created with the modified values. Example: String and Tuples.\n",
        "    I.Strings (str): Strings are ordered sequences of characters used to represent text.Once a string is initialized, its content is fixed. You cannot modify individual characters within the string.\n",
        "    II.Tuples (tuple): They are ordered collections of elements, similar to lists.The main distinction between tuples and lists is that tuples are immutable. This means that once a tuple is created, its content cannot be changed.\n",
        "\n",
        "\n",
        "3. What are the main differences between lists and tuples in Python?\n",
        "   - The main difference between tuples and lists is that tuples are immutable, meaning their contents cannot be changed after creation, while lists are mutable and can be modified. Additionally, tuples are more memory-efficient compared to lists.\n",
        "   Tuples can't be changed after they're created, but lists can be modified. Tuples use less memory than lists. They are also a bit faster, especially when you're just looking up values. So, if you have data that you don't want to change, it's better to use tuples instead of lists.\n",
        "\n",
        "\n",
        "4. Describe how dictionaries store data?\n",
        "   - A Python dictionary is a data structure that stores the value in key: value pairs. Values in a dictionary can be of any data type and can be duplicated, whereas keys can't be repeated and must be immutable.The data is stored in key:value pairs in dictionaries, which makes it easier to find values.\n",
        "\n",
        "\n",
        "5. Why might you use a set instead of a list in Python?\n",
        "   - In Python, both sets and lists are used to store collections of elements but they have key differences that make them suitable for different use cases. Why use a Set Instead of a List :\n",
        "   I.Removing Duplicate :\n",
        "   To eliminate duplicate elements from a collection, converting a list to a set automatically filters out duplicates.\n",
        "   II.Fast Membership Testing :\n",
        "   Checking if an element exists in a set is faster than in a list due to the underlying hash table implementation\n",
        "   III.Set Operations :\n",
        "   Sets support mathematical set operations like union, intersection, and difference.\n",
        "   IV.Efficient Element Removal :\n",
        "   Removing an element from a set is efficient.\n",
        "\n",
        "\n",
        "6. What is a string in Python, and how is it different from a list?\n",
        "   - Python string is a data type used to represent a sequence of characters. These characters can include letters, numbers, symbols, and whitespace. In Python, strings are immutable, meaning that once a string is created, its content cannot be changed. Strings are used for representing textual data. A string is a sequence of characters enclosed in either single quotes (‘’) or double quotes (“”).\n",
        "   - when we add to a string, we use the + concatenation operator to do so. With a list, we use the .append() method to add elements.Finally, one of the most important differences is mutability. Strings are immutable, meaning that we cannot update them. We could update values in a list however quite easily.\n",
        "\n",
        "\n",
        "7. How do tuples ensure data integrity in Python?\n",
        "   - Tuples in Python ensure data integrity primarily through their immutability. Once a tuple is created, its elements cannot be modified, added, or removed. This characteristic guarantees that the data stored within a tuple remains constant throughout its lifecycle. Immutability makes tuples suitable for situations where data integrity is critical, such as storing configuration settings, representing fixed records, or using them as keys in dictionaries. The immutability of tuples also allows for performance optimizations.\n",
        "\n",
        "\n",
        "8. What is a hash table, and how does it relate to dictionaries in Python?\n",
        "   - Hash tables are a type of data structure in which the address/ index value of the data element is generated from a hash function. This enables very fast data access as the index value behaves as a key for the data value. In Python, the Dictionary data types represent the implementation of hash tables. The Keys in the dictionary are hashable they are generated by a hash function which generates a unique result for each unique value supplied to the hash function.\n",
        "\n",
        "\n",
        "9. Can lists contain different data types in Python?\n",
        "   - Yes, lists in Python can contain elements of different data types. This features that makes Python lists very versatile. This means that a single list can hold a combination of integers, floats, strings, booleans, and even other complex data structures like lists, tuples, or dictionaries.Mixed data type lists provide a flexible way to represent complex data structures, allowing for the storage of related information of different types within a single container.\n",
        "\n",
        "10. Explain why strings are immutable in Python?\n",
        "    - Strings in Python are “immutable” which means they can not be changed after they are created. Some other immutable data types are integers, float, boolean.\n",
        "    - The immutability of Python string is very useful as it helps in hashing, performance optimization, safety, ease of use.\n",
        "\n",
        "\n",
        "11. What advantages do dictionaries offer over lists for certain tasks?\n",
        "    - Dictionaries in Python offer several advantages over lists, particularly when dealing with tasks that involve associating unique identifiers with data, requiring fast lookups, or managing dynamic datasets.\n",
        "    - Advantages:\n",
        "    I. Fast Lookups and Access:\n",
        "    Dictionaries provide average-case constant time complexity for accessing, inserting, and deleting elements by key, thanks to their hash table implementation. In contrast, lists require linear time complexity (O(n)) for searching elements by value, as they must be traversed sequentially.\n",
        "    II.Flexible Key Types:\n",
        "    Dictionaries allow keys to be of any immutable data type, such as strings, numbers, or tuples. This flexibility enables the creation of complex data structures and supports a wide range of use cases.\n",
        "    III.Memory Efficiency:\n",
        "    While dictionaries may consume more memory than lists due to storing keys along with values, they are highly memory-efficient when dealing with large datasets that require fast lookups.\n",
        "    IV.Unique Key-Value Pairing:\n",
        "    Dictionaries store data as key-value pairs, ensuring that each key is unique.\n",
        "\n",
        "\n",
        "12. Describe a scenario where using a tuple would be preferable over a list?\n",
        "    - We use a list and tuple in Python to store data. However, there can be situations when we must choose tuples instead of lists. We have shared some of those cases below:\n",
        "\n",
        "    Read-intensive Operations– When the operations we perform revolve around reading data and manipulation is minimal or non-existent, we prefer tuples. It is because they are static in nature, so they are faster in iteration than lists.\n",
        "\n",
        "    Performance- Tuples are comparatively more lightweight. Also, they are faster when it comes to accessing, generating, and iterating because of their immutable nature. If you are dealing with a massive collection of data, tuples can prove to be more effective than lists. Tuples are used when we need to store, retrieve, and use data often but don’t need to change it.\n",
        "\n",
        "    Data Representation- If you want to represent collections with each element having a specific meaning, tuples are a better choice.\n",
        "\n",
        "    Immutable Data- As tuples are immutable, their contents can’t be changed once created. Therefore, they are good for storing data that must not be changed, such as constant values, setup settings, and other information that is consistent and the same throughout program execution.\n",
        "\n",
        "    Dictionary Keys- Dictionary keys in Python must be hashable. As tuples are immutable, we can use them as keys in dictionaries, which is not the case with lists.\n",
        "\n",
        "    Data Integrity- If you don’t want to change the data and prefer to keep it consistent while running the program, tuples are suitable. They protect data from any inadvertent changes and tempering. They ensure data integrity by maintaining consistent data structure and contents.\n",
        "\n",
        "    Safe Data Transmission- If you need to transmit data between functions or modules, you must ensure that the receiving function doesn’t change the original data. In such a situation, tuples are a much safer option than lists.\n",
        "\n",
        "    Memory Efficiency- Tuples are more memory efficient than lists due to their immutable nature. There is no need to allocate extra memory to accommodate potential modifications in the future, which is not the case in lists that require additional memory space for growth.\n",
        "\n",
        "\n",
        "13. How do sets handle duplicate values in Python?\n",
        "    - Sets are implemented using hash tables, which allow for efficient membership testing and ensure that each element is unique. When you try to add a duplicate element, the hash table recognizes that the element already exists and prevents it from being added again.\n",
        "    \n",
        "    Example :\n",
        "\n",
        "    fruits = {\"apple\", \"banana\", \"cherry\", \"apple\", \"banana\"}\n",
        "\n",
        "\n",
        "         print(fruits)\n",
        "\n",
        "    Output:\n",
        "    \n",
        "        {'banana', 'cherry', 'apple'}\n",
        "\n",
        "\n",
        "14. How does the “in” keyword work differently for lists and dictionaries?\n",
        "    - In Python, the in keyword is used to check for membership within various data structures, but its behavior differs between lists and dictionaries due to their underlying implementations. In lists, it checks if a given element exists within the list, while in dictionaries, it checks if a given key exists within the dictionary.\n",
        "\n",
        "    Lists:\n",
        "    The \"in\" keyword checks if a specific element is present in the list.\n",
        "    It returns True if the element is found and False otherwise.\n",
        "    It iterates through the list to find a match based on equality.\n",
        "\n",
        "    Dictionaries:\n",
        "    The \"in\" keyword checks if a specific key is present in the dictionary.\n",
        "    It returns True if the key is found and False otherwise.\n",
        "    It uses the dictionary's internal hash table to quickly look up the key.\n",
        "\n",
        "\n",
        "15. Can you modify the elements of a tuple? Explain why or why not?\n",
        "    - No, you cannot directly modify the elements of a tuple in Python after it's been created. Tuples are immutable, meaning their contents cannot be changed once they are defined. Trying to modify a tuple will result in a TypeError.\n",
        "\n",
        "    While you can't directly modify a tuple, you can achieve the desired effect by creating a new tuple with the changes you want:\n",
        "\n",
        "    I. Convert to a list:\n",
        "    Convert the tuple to a mutable list, make changes to the list, and then convert the list back to a tuple.\n",
        "\n",
        "    II. Slicing and concatenation:\n",
        "    Create a new tuple by combining portions of the original tuple with new elements.\n",
        "\n",
        "    III. Using NamedTuple:\n",
        "    If you need a way to \"modify\" certain elements of a tuple-like object, consider using NamedTuple, which allows you to create a tuple with named fields and a _replace method for creating modified versions.\n",
        "\n",
        "\n",
        "\n",
        "    \n",
        "\n",
        "16. What is a nested dictionary, and give an example of its use case?\n",
        "    - In Python, a nested dictionary is a dictionary inside a dictionary. It's a collection of dictionaries into one single dictionary.\n",
        "   \n",
        "   Example :\n",
        "\n",
        "   nested_dict = { 'dictA': {'key_1': 'value_1'},\n",
        "                   'dictB': {'key_2': 'value_2'}}\n",
        "\n",
        "   Here, the nested_dict is a nested dictionary with the dictionary dictA and dictB. They are two dictionary each having own key and value.\n",
        "\n",
        "   Example\n",
        "\n",
        "   people = {1: {'name': 'John', 'age': '27', 'sex': 'Male'},                  \n",
        "                2: {'name': 'Marie', 'age': '22', 'sex': 'Female'}}\n",
        "\n",
        "   print(people[1]['name'])\n",
        "   print(people[1]['age'])\n",
        "   print(people[1]['sex'])    \n",
        "\n",
        "   Output :\n",
        "   \n",
        "  John\n",
        "   \n",
        "  27\n",
        "\n",
        "  Male\n",
        "\n",
        "   >In the above program, we print the value of key name using i.e. people[1]['name'] from internal dictionary 1. Similarly, we print the value of age and sex one by one.         \n",
        "\n",
        "\n",
        "17. Describe the time complexity of accessing elements in a dictionary?\n",
        "    - The time complexity of accessing an element by its key is generally O(1), meaning it takes constant time regardless of the size of the dictionary. When you access a value using a key, Python computes the hash of the key and uses it to determine the index in the hash table where the value is stored. This direct lookup enables constant-time access in the average case.While the average-case time complexity is O(1), the worst-case time complexity can degrade to O(n) in certain situations. This occurs when many keys hash to the same index, causing collisions. In such cases, Python may need to perform additional comparisons to resolve the collisions, leading to linear time complexity.\n",
        "\n",
        "\n",
        "18. In what situations are lists preferred over dictionaries?\n",
        "   - lists are preferred over dictionaries in scenarios where:\n",
        "\n",
        "     I. Maintaining Order of Elements : Lists preserve the order of insertion, making them ideal when the sequence of elements matters. This is particularly useful for tasks like processing items in the order they were added or iterating over elements in a specific sequence\n",
        "\n",
        "     II.Allowing Duplicate Elements : Lists can store multiple occurrences of the same value, which is beneficial when duplicates are meaningful in your application. For instance, if you're tracking items purchased by customers, a list can accommodate multiple purchases of the same item.\n",
        "\n",
        "     III. Performing Sequential Operations : Lists are optimized for operations that involve iterating over elements in sequence, such as filtering, sorting, or mapping functions. These operations are straightforward with lists due to their ordered nature.\n",
        "\n",
        "     IV.Accessing Elements by Index : Lists support index-based access, enabling you to retrieve elements at specific positions efficiently. This is useful when you need to access elements in a known order or position.\n",
        "\n",
        "\n",
        "19. Why are dictionaries considered unordered, and how does that affect data retrieval?\n",
        "    - A dictionary is termed an unordered collection of objects because dictionaries do not maintain any inherent order of the items based on when they were added. In older versions of Python (before 3.7), dictionaries did not preserve insertion order at all. This meant that when you accessed or printed the items, the order could vary, as dictionaries were optimized for fast lookups rather than maintaining order.\n",
        "\n",
        "\n",
        "20. Explain the difference between a list and a dictionary in terms of data retrieval.\n",
        "    - In Python, lists and dictionaries are both versatile data structures, but they differ significantly in how they store and retrieve data\n",
        "\n",
        "    Lists: Indexed Collections\n",
        "\n",
        "    I. Structure: Ordered collections of items, accessed via integer indices.\n",
        "\n",
        "    II.Access Time: Accessing an element by index is O(1), meaning it's a constant-time operation. However, searching for an item by value requires a linear scan, resulting in O(n) time complexity.\n",
        "\n",
        "    III.Use Case: Ideal when the order of elements is important or when you need to frequently access elements by their position.\n",
        "\n",
        "    Dictionaries: Key-Value Mappings\n",
        "\n",
        "    I.Structure: Unordered collections of key-value pairs, where each key is unique.\n",
        "\n",
        "    II.Access Time: Accessing a value by its key is O(1) on average, due to the underlying hash table implementation. This allows for fast lookups regardless of the dictionary's size.\n",
        "\n",
        "    III.Use Case: Best suited for scenarios where you need to associate unique keys with values and require quick lookups."
      ],
      "metadata": {
        "id": "35or3V8hTIvn"
      }
    },
    {
      "cell_type": "markdown",
      "source": [
        "#Practical Questions"
      ],
      "metadata": {
        "id": "DGE1lUAHKZEF"
      }
    },
    {
      "cell_type": "markdown",
      "source": [
        "1. Write a code to create a string with your name and print it."
      ],
      "metadata": {
        "id": "62ya1V_TKkEv"
      }
    },
    {
      "cell_type": "code",
      "source": [
        "a = input(\"Enter your name: \")\n",
        "print(a)"
      ],
      "metadata": {
        "colab": {
          "base_uri": "https://localhost:8080/"
        },
        "id": "O5RVTc6VKuCF",
        "outputId": "6315ede5-a299-446d-e4f9-7385a8c34d50"
      },
      "execution_count": 6,
      "outputs": [
        {
          "output_type": "stream",
          "name": "stdout",
          "text": [
            "Enter your name: Vaidehi\n",
            "Vaidehi\n"
          ]
        }
      ]
    },
    {
      "cell_type": "markdown",
      "source": [
        "2. Write a code to find the length of the string \"Hello World\"."
      ],
      "metadata": {
        "id": "J2r4buzyLH7n"
      }
    },
    {
      "cell_type": "code",
      "source": [
        "string = \"hello world\"\n",
        "length = len(string)\n",
        "print(length)"
      ],
      "metadata": {
        "colab": {
          "base_uri": "https://localhost:8080/"
        },
        "id": "QvSReFUsLRfo",
        "outputId": "d680423a-f6e6-414e-f478-e4613e077220"
      },
      "execution_count": 7,
      "outputs": [
        {
          "output_type": "stream",
          "name": "stdout",
          "text": [
            "11\n"
          ]
        }
      ]
    },
    {
      "cell_type": "markdown",
      "source": [
        "3. Write a code to slice the first 3 characters from the string \"Python Programming\"."
      ],
      "metadata": {
        "id": "tnarrOMaLlhv"
      }
    },
    {
      "cell_type": "code",
      "source": [
        "text = \"Python Programming\"\n",
        "sliced_text = text[0:3]\n",
        "print(sliced_text)"
      ],
      "metadata": {
        "colab": {
          "base_uri": "https://localhost:8080/"
        },
        "id": "bcpwkvyaLvTV",
        "outputId": "c06eec26-1f45-428f-ab26-25eb2635de0b"
      },
      "execution_count": 9,
      "outputs": [
        {
          "output_type": "stream",
          "name": "stdout",
          "text": [
            "Pyt\n"
          ]
        }
      ]
    },
    {
      "cell_type": "markdown",
      "source": [
        "4. Write a code to convert the string \"hello\" to uppercase."
      ],
      "metadata": {
        "id": "W8vEYA7uP8yA"
      }
    },
    {
      "cell_type": "code",
      "source": [
        "string = \"hello\"\n",
        "uppercase_string = string.upper()\n",
        "print(uppercase_string)"
      ],
      "metadata": {
        "colab": {
          "base_uri": "https://localhost:8080/"
        },
        "id": "iC3ZkHX8P-t5",
        "outputId": "0f41af3d-4579-406c-bc7d-82ab949af720"
      },
      "execution_count": 10,
      "outputs": [
        {
          "output_type": "stream",
          "name": "stdout",
          "text": [
            "HELLO\n"
          ]
        }
      ]
    },
    {
      "cell_type": "markdown",
      "source": [
        "5. Write a code to replace the word \"apple\" with \"orange\" in the string \"I like apple\"."
      ],
      "metadata": {
        "id": "9KE2Ut_oQjCe"
      }
    },
    {
      "cell_type": "code",
      "source": [
        "text = \"I like apple\"\n",
        "updated_text = text.replace(\"apple\", \"orange\")\n",
        "print(updated_text)\n"
      ],
      "metadata": {
        "colab": {
          "base_uri": "https://localhost:8080/"
        },
        "id": "qUrEhUZHQt4s",
        "outputId": "fd89f3dd-5532-45b0-db7a-13fb1b2b70c7"
      },
      "execution_count": 11,
      "outputs": [
        {
          "output_type": "stream",
          "name": "stdout",
          "text": [
            "I like orange\n"
          ]
        }
      ]
    },
    {
      "cell_type": "markdown",
      "source": [
        "6. Write a code to create a list with numbers 1 to 5 and print it."
      ],
      "metadata": {
        "id": "vdk92TPERDp-"
      }
    },
    {
      "cell_type": "code",
      "source": [
        "numbers = list(range(1, 6))\n",
        "print(numbers)\n"
      ],
      "metadata": {
        "colab": {
          "base_uri": "https://localhost:8080/"
        },
        "id": "a6GttuFVRLqD",
        "outputId": "e3cbe0d0-1e09-4c80-f539-aa4f0c90e033"
      },
      "execution_count": 12,
      "outputs": [
        {
          "output_type": "stream",
          "name": "stdout",
          "text": [
            "[1, 2, 3, 4, 5]\n"
          ]
        }
      ]
    },
    {
      "cell_type": "markdown",
      "source": [
        "7. Write a code to append the number 10 to the list [1, 2, 3, 4]."
      ],
      "metadata": {
        "id": "X4upf50kR8Fy"
      }
    },
    {
      "cell_type": "code",
      "source": [
        "my_list = [1, 2, 3, 4]\n",
        "my_list.append(10)\n",
        "print(my_list)"
      ],
      "metadata": {
        "colab": {
          "base_uri": "https://localhost:8080/"
        },
        "id": "2oSBc1EBSCnT",
        "outputId": "3c4c6316-f3a4-4da9-dc79-726dbc66de26"
      },
      "execution_count": 13,
      "outputs": [
        {
          "output_type": "stream",
          "name": "stdout",
          "text": [
            "[1, 2, 3, 4, 10]\n"
          ]
        }
      ]
    },
    {
      "cell_type": "markdown",
      "source": [
        "8. Write a code to remove the number 3 from the list [1, 2, 3, 4, 5]."
      ],
      "metadata": {
        "id": "S03anxf-SZtg"
      }
    },
    {
      "cell_type": "code",
      "source": [
        "my_list = [1, 2, 3, 4, 5]\n",
        "my_list.remove(3)\n",
        "print(my_list)\n"
      ],
      "metadata": {
        "colab": {
          "base_uri": "https://localhost:8080/"
        },
        "id": "3UMDMLwUScQN",
        "outputId": "721bf94d-e775-4ca3-93a4-2db43e0cfae6"
      },
      "execution_count": 14,
      "outputs": [
        {
          "output_type": "stream",
          "name": "stdout",
          "text": [
            "[1, 2, 4, 5]\n"
          ]
        }
      ]
    },
    {
      "cell_type": "markdown",
      "source": [
        "9. Write a code to access the second element in the list ['a', 'b', 'c', 'd']."
      ],
      "metadata": {
        "id": "Hvy35C6qStcr"
      }
    },
    {
      "cell_type": "code",
      "source": [
        "my_list = ['a', 'b', 'c', 'd']\n",
        "second_element = my_list[1]\n",
        "print(second_element)\n"
      ],
      "metadata": {
        "colab": {
          "base_uri": "https://localhost:8080/"
        },
        "id": "TFa_V4A7Szdb",
        "outputId": "77c2263b-d1ab-4b3a-dc32-91a2a8db273d"
      },
      "execution_count": 15,
      "outputs": [
        {
          "output_type": "stream",
          "name": "stdout",
          "text": [
            "b\n"
          ]
        }
      ]
    },
    {
      "cell_type": "markdown",
      "source": [
        "10. Write a code to reverse the list [10, 20, 30, 40, 50]."
      ],
      "metadata": {
        "id": "Mdf1yfAYTD5W"
      }
    },
    {
      "cell_type": "code",
      "source": [
        "my_list = [10, 20, 30, 40, 50]\n",
        "my_list.reverse()\n",
        "print(my_list)\n"
      ],
      "metadata": {
        "colab": {
          "base_uri": "https://localhost:8080/"
        },
        "id": "W4cRDeIiTNzW",
        "outputId": "22bd4ab0-a2f5-492e-d82f-32a012c97553"
      },
      "execution_count": 16,
      "outputs": [
        {
          "output_type": "stream",
          "name": "stdout",
          "text": [
            "[50, 40, 30, 20, 10]\n"
          ]
        }
      ]
    },
    {
      "cell_type": "markdown",
      "source": [
        "11. Write a code to create a tuple with the elements 100, 200, 300 and print it."
      ],
      "metadata": {
        "id": "YRMoP14PToJT"
      }
    },
    {
      "cell_type": "code",
      "source": [
        "my_tuple = (100, 200, 300)\n",
        "\n",
        "print(my_tuple)\n"
      ],
      "metadata": {
        "colab": {
          "base_uri": "https://localhost:8080/"
        },
        "id": "tNlOu5WhTqE0",
        "outputId": "f5e8a1b9-2226-407d-f2ed-f2cf4b2531a1"
      },
      "execution_count": 17,
      "outputs": [
        {
          "output_type": "stream",
          "name": "stdout",
          "text": [
            "(100, 200, 300)\n"
          ]
        }
      ]
    },
    {
      "cell_type": "markdown",
      "source": [
        "12. Write a code to access the second-to-last element of the tuple ('red', 'green', 'blue', 'yellow')."
      ],
      "metadata": {
        "id": "EY-vCsBpUEwO"
      }
    },
    {
      "cell_type": "code",
      "source": [
        "colors = ('red', 'green', 'blue', 'yellow')\n",
        "\n",
        "# Access the second-to-last element using negative indexing\n",
        "second_to_last = colors[-2]\n",
        "\n",
        "print(second_to_last)\n"
      ],
      "metadata": {
        "colab": {
          "base_uri": "https://localhost:8080/"
        },
        "id": "nLSJcPQVUSvM",
        "outputId": "5ed6f76c-190c-4f1f-a5b5-d565e9d347b2"
      },
      "execution_count": 18,
      "outputs": [
        {
          "output_type": "stream",
          "name": "stdout",
          "text": [
            "blue\n"
          ]
        }
      ]
    },
    {
      "cell_type": "markdown",
      "source": [
        "13. Write a code to find the minimum number in the tuple (10, 20, 5, 15)."
      ],
      "metadata": {
        "id": "hdYT40bjU0vR"
      }
    },
    {
      "cell_type": "code",
      "source": [
        "numbers = (10, 20, 5, 15)\n",
        "min_number = min(numbers)\n",
        "print(min_number)"
      ],
      "metadata": {
        "colab": {
          "base_uri": "https://localhost:8080/"
        },
        "id": "6aP-4vQMVOQ7",
        "outputId": "00737894-1b79-4dcd-ef91-aef831d0edc6"
      },
      "execution_count": 19,
      "outputs": [
        {
          "output_type": "stream",
          "name": "stdout",
          "text": [
            "5\n"
          ]
        }
      ]
    },
    {
      "cell_type": "markdown",
      "source": [
        "14. Write a code to find the index of the element \"cat\" in the tuple ('dog', 'cat', 'rabbit')."
      ],
      "metadata": {
        "id": "HYYb-VokVTjp"
      }
    },
    {
      "cell_type": "code",
      "source": [
        "animals = ('dog', 'cat', 'rabbit')\n",
        "\n",
        "index_of_cat = animals.index('cat')\n",
        "\n",
        "print(index_of_cat)\n"
      ],
      "metadata": {
        "colab": {
          "base_uri": "https://localhost:8080/"
        },
        "id": "5Rll-HL0VZqW",
        "outputId": "6abd12fe-0173-4670-abb8-f15801799f41"
      },
      "execution_count": 20,
      "outputs": [
        {
          "output_type": "stream",
          "name": "stdout",
          "text": [
            "1\n"
          ]
        }
      ]
    },
    {
      "cell_type": "markdown",
      "source": [
        "15. Write a code to create a tuple containing three different fruits and check if \"kiwi\" is in it."
      ],
      "metadata": {
        "id": "-fM8KxCOVqD7"
      }
    },
    {
      "cell_type": "code",
      "source": [
        "fruits = ('mango', 'apple', 'orange')\n",
        "\n",
        "if 'kiwi' in fruits:\n",
        "    print(\"Yes, 'kiwi' is in it.\")\n",
        "else:\n",
        "    print(\"No, 'kiwi' is not in it.\")\n"
      ],
      "metadata": {
        "colab": {
          "base_uri": "https://localhost:8080/"
        },
        "id": "MEzesNgrVxro",
        "outputId": "9a9f84a0-3e8e-4d29-d0f0-7d4c216c639a"
      },
      "execution_count": 21,
      "outputs": [
        {
          "output_type": "stream",
          "name": "stdout",
          "text": [
            "No, 'kiwi' is not in it.\n"
          ]
        }
      ]
    },
    {
      "cell_type": "markdown",
      "source": [
        "16. Write a code to create a set with the elements 'a', 'b', 'c' and print it."
      ],
      "metadata": {
        "id": "j9hCWft7WfA6"
      }
    },
    {
      "cell_type": "code",
      "source": [
        "my_set = {'a','b','c'}\n",
        "\n",
        "print(my_set)\n"
      ],
      "metadata": {
        "colab": {
          "base_uri": "https://localhost:8080/"
        },
        "id": "vSqfQZzGWj4y",
        "outputId": "e8dee52b-b8cc-4ee0-ce72-66803aa08182"
      },
      "execution_count": 25,
      "outputs": [
        {
          "output_type": "stream",
          "name": "stdout",
          "text": [
            "{'c', 'b', 'a'}\n"
          ]
        }
      ]
    },
    {
      "cell_type": "markdown",
      "source": [
        "17. Write a code to clear all elements from the set {1, 2, 3, 4, 5}."
      ],
      "metadata": {
        "id": "kczQSXEAXxDN"
      }
    },
    {
      "cell_type": "code",
      "source": [
        "my_set = {1, 2, 3, 4, 5}\n",
        "my_set.clear()\n",
        "print(my_set)"
      ],
      "metadata": {
        "colab": {
          "base_uri": "https://localhost:8080/"
        },
        "id": "LYPCcE4wX4ay",
        "outputId": "8ee55085-5658-4f63-8b90-3916e1a202d2"
      },
      "execution_count": 26,
      "outputs": [
        {
          "output_type": "stream",
          "name": "stdout",
          "text": [
            "set()\n"
          ]
        }
      ]
    },
    {
      "cell_type": "markdown",
      "source": [
        "18. Write a code to remove the element 4 from the set {1, 2, 3, 4}."
      ],
      "metadata": {
        "id": "cW7nS4grYE8z"
      }
    },
    {
      "cell_type": "code",
      "source": [
        "my_set = {1, 2, 3, 4}\n",
        "\n",
        "my_set.remove(4)\n",
        "\n",
        "print(my_set)\n"
      ],
      "metadata": {
        "colab": {
          "base_uri": "https://localhost:8080/"
        },
        "id": "RfGQZCTgYLF2",
        "outputId": "b61daab8-fb51-4187-c140-9f409f659718"
      },
      "execution_count": 27,
      "outputs": [
        {
          "output_type": "stream",
          "name": "stdout",
          "text": [
            "{1, 2, 3}\n"
          ]
        }
      ]
    },
    {
      "cell_type": "markdown",
      "source": [
        "19. Write a code to find the union of two sets {1, 2, 3} and {3, 4, 5}."
      ],
      "metadata": {
        "id": "RqkKoWKsYmBa"
      }
    },
    {
      "cell_type": "code",
      "source": [
        "set1 = {1, 2, 3}\n",
        "set2 = {3, 4, 5}\n",
        "\n",
        "result = set1.union(set2)\n",
        "\n",
        "print(result)\n"
      ],
      "metadata": {
        "colab": {
          "base_uri": "https://localhost:8080/"
        },
        "id": "V1xQLVxdYx6u",
        "outputId": "e769c859-a152-48e2-b5f5-1ff549d02531"
      },
      "execution_count": 28,
      "outputs": [
        {
          "output_type": "stream",
          "name": "stdout",
          "text": [
            "{1, 2, 3, 4, 5}\n"
          ]
        }
      ]
    },
    {
      "cell_type": "markdown",
      "source": [
        "20. Write a code to find the intersection of two sets {1, 2, 3} and {2, 3, 4}."
      ],
      "metadata": {
        "id": "tIMabUlBZbVT"
      }
    },
    {
      "cell_type": "code",
      "source": [
        "set1 = {1, 2, 3}\n",
        "set2 = {2, 3, 4}\n",
        "\n",
        "result = set1.intersection(set2)\n",
        "\n",
        "print(result)\n"
      ],
      "metadata": {
        "colab": {
          "base_uri": "https://localhost:8080/"
        },
        "id": "klI1ogARZk0a",
        "outputId": "68df1729-8063-40a0-ce22-1e198338fffd"
      },
      "execution_count": 29,
      "outputs": [
        {
          "output_type": "stream",
          "name": "stdout",
          "text": [
            "{2, 3}\n"
          ]
        }
      ]
    },
    {
      "cell_type": "markdown",
      "source": [
        "21. Write a code to create a dictionary with the keys \"name\", \"age\", and \"city\", and print it."
      ],
      "metadata": {
        "id": "WbARF10jZ6aP"
      }
    },
    {
      "cell_type": "code",
      "source": [
        "person = {\"name\": \"Priya\", \"age\": 25, \"city\": \"Mumbai\"}\n",
        "\n",
        "print(person)\n"
      ],
      "metadata": {
        "colab": {
          "base_uri": "https://localhost:8080/"
        },
        "id": "inBGO7NCaJBl",
        "outputId": "a732e964-b992-48f5-cd8a-54106200ffb6"
      },
      "execution_count": 30,
      "outputs": [
        {
          "output_type": "stream",
          "name": "stdout",
          "text": [
            "{'name': 'Priya', 'age': 25, 'city': 'Mumbai'}\n"
          ]
        }
      ]
    },
    {
      "cell_type": "markdown",
      "source": [
        "22. Write a code to add a new key-value pair \"country\": \"USA\" to the dictionary {'name': 'John', 'age': 25}."
      ],
      "metadata": {
        "id": "UZy22wcgbK_H"
      }
    },
    {
      "cell_type": "code",
      "source": [
        "person = {'name': 'John', 'age': 25}\n",
        "\n",
        "person['country'] = 'USA'\n",
        "\n",
        "print(person)\n",
        "\n"
      ],
      "metadata": {
        "colab": {
          "base_uri": "https://localhost:8080/"
        },
        "id": "2rSYSgLRbXAQ",
        "outputId": "dff7a4ec-3113-4f4a-84a8-62e6d4299640"
      },
      "execution_count": 31,
      "outputs": [
        {
          "output_type": "stream",
          "name": "stdout",
          "text": [
            "{'name': 'John', 'age': 25, 'country': 'USA'}\n"
          ]
        }
      ]
    },
    {
      "cell_type": "markdown",
      "source": [
        "23. Write a code to access the value associated with the key \"name\" in the dictionary {'name': 'Alice', 'age': 30}."
      ],
      "metadata": {
        "id": "S2jouc-Ccq0c"
      }
    },
    {
      "cell_type": "code",
      "source": [
        "person = {'name': 'Alice', 'age': 30}\n",
        "print(person['name'])\n"
      ],
      "metadata": {
        "colab": {
          "base_uri": "https://localhost:8080/"
        },
        "id": "6J-3_Vqvcxci",
        "outputId": "53ce05b9-6259-41f8-fa19-1b5fe5d0e5fd"
      },
      "execution_count": 32,
      "outputs": [
        {
          "output_type": "stream",
          "name": "stdout",
          "text": [
            "Alice\n"
          ]
        }
      ]
    },
    {
      "cell_type": "markdown",
      "source": [
        "24. Write a code to remove the key \"age\" from the dictionary {'name': 'Bob', 'age': 22, 'city': 'New York'}."
      ],
      "metadata": {
        "id": "G3UKnroCdGco"
      }
    },
    {
      "cell_type": "code",
      "source": [
        "person = {'name': 'Bob', 'age': 22, 'city': 'New York'}\n",
        "del person['age']\n",
        "print(person)\n"
      ],
      "metadata": {
        "colab": {
          "base_uri": "https://localhost:8080/"
        },
        "id": "UTGdjbTFdMHS",
        "outputId": "edecd2f4-880f-4043-9413-656ef91d4b87"
      },
      "execution_count": 33,
      "outputs": [
        {
          "output_type": "stream",
          "name": "stdout",
          "text": [
            "{'name': 'Bob', 'city': 'New York'}\n"
          ]
        }
      ]
    },
    {
      "cell_type": "markdown",
      "source": [
        "25. Write a code to check if the key \"city\" exists in the dictionary {'name': 'Alice', 'city': 'Paris'}."
      ],
      "metadata": {
        "id": "cObFU6e4ds_v"
      }
    },
    {
      "cell_type": "code",
      "source": [
        "person = {'name': 'Alice', 'city': 'Paris'}\n",
        "\n",
        "if 'city' in person:\n",
        "    print(\"The key 'city' exists.\")\n",
        "else:\n",
        "    print(\"The key 'city' does not exist.\")\n"
      ],
      "metadata": {
        "colab": {
          "base_uri": "https://localhost:8080/"
        },
        "id": "kTx7Xlgcd2dJ",
        "outputId": "0fd601ca-0edb-4b5d-db72-a7e70911acfe"
      },
      "execution_count": 34,
      "outputs": [
        {
          "output_type": "stream",
          "name": "stdout",
          "text": [
            "The key 'city' exists.\n"
          ]
        }
      ]
    },
    {
      "cell_type": "markdown",
      "source": [
        "26. Write a code to create a list, a tuple, and a dictionary, and print them all."
      ],
      "metadata": {
        "id": "d2e1HgAvergM"
      }
    },
    {
      "cell_type": "code",
      "source": [
        "# Creating a list\n",
        "my_list = [1, 2, 3, 4, 5]\n",
        "\n",
        "# Creating a tuple\n",
        "my_tuple = ('red', 'yellow', 'orange')\n",
        "\n",
        "# Creating a dictionary\n",
        "my_dict = {'name': 'Priya', 'age': 40, 'city': 'Mumbai'}\n",
        "\n",
        "print(my_list)\n",
        "print(my_tuple)\n",
        "print(my_dict)\n"
      ],
      "metadata": {
        "colab": {
          "base_uri": "https://localhost:8080/"
        },
        "id": "FteNGRwpewm7",
        "outputId": "6856cfc9-e107-41fc-ca08-cb47062cc4ea"
      },
      "execution_count": 35,
      "outputs": [
        {
          "output_type": "stream",
          "name": "stdout",
          "text": [
            "[1, 2, 3, 4, 5]\n",
            "('red', 'yellow', 'orange')\n",
            "{'name': 'Priya', 'age': 40, 'city': 'Mumbai'}\n"
          ]
        }
      ]
    },
    {
      "cell_type": "markdown",
      "source": [
        "27. Write a code to create a list of 5 random numbers between 1 and 100, sort it in ascending order, and print the\n",
        "result.(replaced)"
      ],
      "metadata": {
        "id": "kZbEzgYOfhXf"
      }
    },
    {
      "cell_type": "code",
      "source": [
        "import random\n",
        "\n",
        "random_numbers = random.sample(range(1, 101), 5)\n",
        "\n",
        "random_numbers.sort()\n",
        "\n",
        "print(\"Sorted random numbers:\", random_numbers)\n"
      ],
      "metadata": {
        "colab": {
          "base_uri": "https://localhost:8080/"
        },
        "id": "d-8-M101fmSB",
        "outputId": "0433e273-36f2-45cd-aeee-14a37249dcfd"
      },
      "execution_count": 36,
      "outputs": [
        {
          "output_type": "stream",
          "name": "stdout",
          "text": [
            "Sorted random numbers: [58, 71, 73, 79, 86]\n"
          ]
        }
      ]
    },
    {
      "cell_type": "markdown",
      "source": [
        "28. Write a code to create a list with strings and print the element at the third index."
      ],
      "metadata": {
        "id": "weXusxQjgRGH"
      }
    },
    {
      "cell_type": "code",
      "source": [
        "colors = [\"red\", \"yellow\", \"pink\", \"orange\", \"blue\"]\n",
        "\n",
        "print(colors[3])\n"
      ],
      "metadata": {
        "colab": {
          "base_uri": "https://localhost:8080/"
        },
        "id": "lJKmYlpUgWRw",
        "outputId": "baedcd86-d773-4c1e-c7ae-310a2c5248cf"
      },
      "execution_count": 37,
      "outputs": [
        {
          "output_type": "stream",
          "name": "stdout",
          "text": [
            "orange\n"
          ]
        }
      ]
    },
    {
      "cell_type": "markdown",
      "source": [
        "29. Write a code to combine two dictionaries into one and print the result."
      ],
      "metadata": {
        "id": "uXB0CkzQg6gE"
      }
    },
    {
      "cell_type": "code",
      "source": [
        "dict1 = {'name': 'Ankit', 'age': 30}\n",
        "dict2 = {'city': 'Pune', 'country': 'India'}\n",
        "\n",
        "dict1.update(dict2)\n",
        "\n",
        "print(dict1)\n"
      ],
      "metadata": {
        "colab": {
          "base_uri": "https://localhost:8080/"
        },
        "id": "l-6sfODhhA7X",
        "outputId": "37bee4c4-3a9f-4191-adb2-d7f676384405"
      },
      "execution_count": 38,
      "outputs": [
        {
          "output_type": "stream",
          "name": "stdout",
          "text": [
            "{'name': 'Ankit', 'age': 30, 'city': 'Pune', 'country': 'India'}\n"
          ]
        }
      ]
    },
    {
      "cell_type": "markdown",
      "source": [
        "30. Write a code to convert a list of strings into a set."
      ],
      "metadata": {
        "id": "3llSGL9hhprp"
      }
    },
    {
      "cell_type": "code",
      "source": [
        "colors = [\"red\", \"orange\", \"blue\", \"red\", \"yellow\"]\n",
        "\n",
        "unique_colors = set(colors)\n",
        "\n",
        "print(unique_colors)\n"
      ],
      "metadata": {
        "colab": {
          "base_uri": "https://localhost:8080/"
        },
        "id": "M3vqZyiNhudG",
        "outputId": "f098e382-496f-40e1-ce76-07c81c0c1164"
      },
      "execution_count": 40,
      "outputs": [
        {
          "output_type": "stream",
          "name": "stdout",
          "text": [
            "{'yellow', 'orange', 'blue', 'red'}\n"
          ]
        }
      ]
    }
  ]
}